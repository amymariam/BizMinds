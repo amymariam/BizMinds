{
 "cells": [
  {
   "cell_type": "code",
   "execution_count": 33,
   "id": "f9c3910b",
   "metadata": {},
   "outputs": [],
   "source": [
    "import pandas as pd\n",
    "import numpy as np"
   ]
  },
  {
   "cell_type": "markdown",
   "id": "40a47063",
   "metadata": {},
   "source": [
    "Cleaning Customer Details "
   ]
  },
  {
   "cell_type": "code",
   "execution_count": 34,
   "id": "a2800291",
   "metadata": {},
   "outputs": [],
   "source": [
    "customer_details = pd.read_csv(r'Structured data/customer_details.csv')"
   ]
  },
  {
   "cell_type": "code",
   "execution_count": 35,
   "id": "cdcd8053",
   "metadata": {},
   "outputs": [
    {
     "data": {
      "text/html": [
       "<div>\n",
       "<style scoped>\n",
       "    .dataframe tbody tr th:only-of-type {\n",
       "        vertical-align: middle;\n",
       "    }\n",
       "\n",
       "    .dataframe tbody tr th {\n",
       "        vertical-align: top;\n",
       "    }\n",
       "\n",
       "    .dataframe thead th {\n",
       "        text-align: right;\n",
       "    }\n",
       "</style>\n",
       "<table border=\"1\" class=\"dataframe\">\n",
       "  <thead>\n",
       "    <tr style=\"text-align: right;\">\n",
       "      <th></th>\n",
       "      <th>Customer ID</th>\n",
       "      <th>Age</th>\n",
       "      <th>Gender</th>\n",
       "      <th>Item Purchased</th>\n",
       "      <th>Category</th>\n",
       "      <th>Purchase Amount (USD)</th>\n",
       "      <th>Location</th>\n",
       "      <th>Size</th>\n",
       "      <th>Color</th>\n",
       "      <th>Season</th>\n",
       "      <th>Review Rating</th>\n",
       "      <th>Subscription Status</th>\n",
       "      <th>Shipping Type</th>\n",
       "      <th>Discount Applied</th>\n",
       "      <th>Promo Code Used</th>\n",
       "      <th>Previous Purchases</th>\n",
       "      <th>Payment Method</th>\n",
       "      <th>Frequency of Purchases</th>\n",
       "    </tr>\n",
       "  </thead>\n",
       "  <tbody>\n",
       "    <tr>\n",
       "      <th>0</th>\n",
       "      <td>1</td>\n",
       "      <td>55</td>\n",
       "      <td>Male</td>\n",
       "      <td>Blouse</td>\n",
       "      <td>Clothing</td>\n",
       "      <td>53</td>\n",
       "      <td>Kentucky</td>\n",
       "      <td>L</td>\n",
       "      <td>Gray</td>\n",
       "      <td>Winter</td>\n",
       "      <td>3.1</td>\n",
       "      <td>Yes</td>\n",
       "      <td>Express</td>\n",
       "      <td>Yes</td>\n",
       "      <td>Yes</td>\n",
       "      <td>14</td>\n",
       "      <td>Venmo</td>\n",
       "      <td>Fortnightly</td>\n",
       "    </tr>\n",
       "    <tr>\n",
       "      <th>1</th>\n",
       "      <td>2</td>\n",
       "      <td>19</td>\n",
       "      <td>Male</td>\n",
       "      <td>Sweater</td>\n",
       "      <td>Clothing</td>\n",
       "      <td>64</td>\n",
       "      <td>Maine</td>\n",
       "      <td>L</td>\n",
       "      <td>Maroon</td>\n",
       "      <td>Winter</td>\n",
       "      <td>3.1</td>\n",
       "      <td>Yes</td>\n",
       "      <td>Express</td>\n",
       "      <td>Yes</td>\n",
       "      <td>Yes</td>\n",
       "      <td>2</td>\n",
       "      <td>Cash</td>\n",
       "      <td>Fortnightly</td>\n",
       "    </tr>\n",
       "    <tr>\n",
       "      <th>2</th>\n",
       "      <td>3</td>\n",
       "      <td>50</td>\n",
       "      <td>Male</td>\n",
       "      <td>Jeans</td>\n",
       "      <td>Clothing</td>\n",
       "      <td>73</td>\n",
       "      <td>Massachusetts</td>\n",
       "      <td>S</td>\n",
       "      <td>Maroon</td>\n",
       "      <td>Spring</td>\n",
       "      <td>3.1</td>\n",
       "      <td>Yes</td>\n",
       "      <td>Free Shipping</td>\n",
       "      <td>Yes</td>\n",
       "      <td>Yes</td>\n",
       "      <td>23</td>\n",
       "      <td>Credit Card</td>\n",
       "      <td>Weekly</td>\n",
       "    </tr>\n",
       "    <tr>\n",
       "      <th>3</th>\n",
       "      <td>4</td>\n",
       "      <td>21</td>\n",
       "      <td>Male</td>\n",
       "      <td>Sandals</td>\n",
       "      <td>Footwear</td>\n",
       "      <td>90</td>\n",
       "      <td>Rhode Island</td>\n",
       "      <td>M</td>\n",
       "      <td>Maroon</td>\n",
       "      <td>Spring</td>\n",
       "      <td>3.5</td>\n",
       "      <td>Yes</td>\n",
       "      <td>Next Day Air</td>\n",
       "      <td>Yes</td>\n",
       "      <td>Yes</td>\n",
       "      <td>49</td>\n",
       "      <td>PayPal</td>\n",
       "      <td>Weekly</td>\n",
       "    </tr>\n",
       "    <tr>\n",
       "      <th>4</th>\n",
       "      <td>5</td>\n",
       "      <td>45</td>\n",
       "      <td>Male</td>\n",
       "      <td>Blouse</td>\n",
       "      <td>Clothing</td>\n",
       "      <td>49</td>\n",
       "      <td>Oregon</td>\n",
       "      <td>M</td>\n",
       "      <td>Turquoise</td>\n",
       "      <td>Spring</td>\n",
       "      <td>2.7</td>\n",
       "      <td>Yes</td>\n",
       "      <td>Free Shipping</td>\n",
       "      <td>Yes</td>\n",
       "      <td>Yes</td>\n",
       "      <td>31</td>\n",
       "      <td>PayPal</td>\n",
       "      <td>Annually</td>\n",
       "    </tr>\n",
       "  </tbody>\n",
       "</table>\n",
       "</div>"
      ],
      "text/plain": [
       "   Customer ID  Age Gender Item Purchased  Category  Purchase Amount (USD)  \\\n",
       "0            1   55   Male         Blouse  Clothing                     53   \n",
       "1            2   19   Male        Sweater  Clothing                     64   \n",
       "2            3   50   Male          Jeans  Clothing                     73   \n",
       "3            4   21   Male        Sandals  Footwear                     90   \n",
       "4            5   45   Male         Blouse  Clothing                     49   \n",
       "\n",
       "        Location Size      Color  Season  Review Rating Subscription Status  \\\n",
       "0       Kentucky    L       Gray  Winter            3.1                 Yes   \n",
       "1          Maine    L     Maroon  Winter            3.1                 Yes   \n",
       "2  Massachusetts    S     Maroon  Spring            3.1                 Yes   \n",
       "3   Rhode Island    M     Maroon  Spring            3.5                 Yes   \n",
       "4         Oregon    M  Turquoise  Spring            2.7                 Yes   \n",
       "\n",
       "   Shipping Type Discount Applied Promo Code Used  Previous Purchases  \\\n",
       "0        Express              Yes             Yes                  14   \n",
       "1        Express              Yes             Yes                   2   \n",
       "2  Free Shipping              Yes             Yes                  23   \n",
       "3   Next Day Air              Yes             Yes                  49   \n",
       "4  Free Shipping              Yes             Yes                  31   \n",
       "\n",
       "  Payment Method Frequency of Purchases  \n",
       "0          Venmo            Fortnightly  \n",
       "1           Cash            Fortnightly  \n",
       "2    Credit Card                 Weekly  \n",
       "3         PayPal                 Weekly  \n",
       "4         PayPal               Annually  "
      ]
     },
     "execution_count": 35,
     "metadata": {},
     "output_type": "execute_result"
    }
   ],
   "source": [
    "customer_details.head()"
   ]
  },
  {
   "cell_type": "code",
   "execution_count": 36,
   "id": "97ba9362",
   "metadata": {},
   "outputs": [
    {
     "data": {
      "text/plain": [
       "Customer ID               0\n",
       "Age                       0\n",
       "Gender                    0\n",
       "Item Purchased            0\n",
       "Category                  0\n",
       "Purchase Amount (USD)     0\n",
       "Location                  0\n",
       "Size                      0\n",
       "Color                     0\n",
       "Season                    0\n",
       "Review Rating             0\n",
       "Subscription Status       0\n",
       "Shipping Type             0\n",
       "Discount Applied          0\n",
       "Promo Code Used           0\n",
       "Previous Purchases        0\n",
       "Payment Method            0\n",
       "Frequency of Purchases    0\n",
       "dtype: int64"
      ]
     },
     "execution_count": 36,
     "metadata": {},
     "output_type": "execute_result"
    }
   ],
   "source": [
    "customer_details.isnull().sum()"
   ]
  },
  {
   "cell_type": "code",
   "execution_count": 37,
   "id": "dc816014",
   "metadata": {},
   "outputs": [
    {
     "data": {
      "text/plain": [
       "0"
      ]
     },
     "execution_count": 37,
     "metadata": {},
     "output_type": "execute_result"
    }
   ],
   "source": [
    "customer_details.duplicated().sum()"
   ]
  },
  {
   "cell_type": "code",
   "execution_count": 38,
   "id": "3a04c1bb",
   "metadata": {},
   "outputs": [
    {
     "data": {
      "text/plain": [
       "Customer ID                 int64\n",
       "Age                         int64\n",
       "Gender                     object\n",
       "Item Purchased             object\n",
       "Category                   object\n",
       "Purchase Amount (USD)       int64\n",
       "Location                   object\n",
       "Size                       object\n",
       "Color                      object\n",
       "Season                     object\n",
       "Review Rating             float64\n",
       "Subscription Status        object\n",
       "Shipping Type              object\n",
       "Discount Applied           object\n",
       "Promo Code Used            object\n",
       "Previous Purchases          int64\n",
       "Payment Method             object\n",
       "Frequency of Purchases     object\n",
       "dtype: object"
      ]
     },
     "execution_count": 38,
     "metadata": {},
     "output_type": "execute_result"
    }
   ],
   "source": [
    "customer_details.dtypes"
   ]
  },
  {
   "cell_type": "code",
   "execution_count": 39,
   "id": "98877c97",
   "metadata": {},
   "outputs": [
    {
     "data": {
      "text/plain": [
       "Male      2652\n",
       "Female    1248\n",
       "Name: Gender, dtype: int64"
      ]
     },
     "execution_count": 39,
     "metadata": {},
     "output_type": "execute_result"
    }
   ],
   "source": [
    "customer_details['Gender'].value_counts()"
   ]
  },
  {
   "cell_type": "code",
   "execution_count": 40,
   "id": "a6e29bef",
   "metadata": {},
   "outputs": [
    {
     "data": {
      "text/plain": [
       "No     2223\n",
       "Yes    1677\n",
       "Name: Discount Applied, dtype: int64"
      ]
     },
     "execution_count": 40,
     "metadata": {},
     "output_type": "execute_result"
    }
   ],
   "source": [
    "customer_details['Discount Applied'].value_counts()"
   ]
  },
  {
   "cell_type": "code",
   "execution_count": 41,
   "id": "6af8425e",
   "metadata": {},
   "outputs": [
    {
     "data": {
      "text/plain": [
       "No     2223\n",
       "Yes    1677\n",
       "Name: Promo Code Used, dtype: int64"
      ]
     },
     "execution_count": 41,
     "metadata": {},
     "output_type": "execute_result"
    }
   ],
   "source": [
    "customer_details['Promo Code Used'].value_counts()"
   ]
  },
  {
   "cell_type": "code",
   "execution_count": 42,
   "id": "25860e65",
   "metadata": {},
   "outputs": [
    {
     "data": {
      "text/plain": [
       "array([55, 19, 50, 21, 45, 46, 63, 27, 26, 57, 53, 30, 61, 65, 64, 25, 52,\n",
       "       66, 31, 56, 18, 38, 54, 33, 36, 35, 29, 70, 69, 67, 20, 39, 42, 68,\n",
       "       49, 59, 47, 40, 41, 48, 22, 24, 44, 37, 58, 32, 62, 51, 28, 43, 34,\n",
       "       23, 60], dtype=int64)"
      ]
     },
     "execution_count": 42,
     "metadata": {},
     "output_type": "execute_result"
    }
   ],
   "source": [
    "customer_details['Age'].unique()"
   ]
  },
  {
   "cell_type": "markdown",
   "id": "4ff18759",
   "metadata": {},
   "source": [
    "Cleaning Product Details"
   ]
  },
  {
   "cell_type": "code",
   "execution_count": 43,
   "id": "faf71e5f",
   "metadata": {},
   "outputs": [],
   "source": [
    "product_details = pd.read_csv(r'Structured data/product_details.csv')"
   ]
  },
  {
   "cell_type": "code",
   "execution_count": 44,
   "id": "2ee9a209",
   "metadata": {},
   "outputs": [
    {
     "data": {
      "text/html": [
       "<div>\n",
       "<style scoped>\n",
       "    .dataframe tbody tr th:only-of-type {\n",
       "        vertical-align: middle;\n",
       "    }\n",
       "\n",
       "    .dataframe tbody tr th {\n",
       "        vertical-align: top;\n",
       "    }\n",
       "\n",
       "    .dataframe thead th {\n",
       "        text-align: right;\n",
       "    }\n",
       "</style>\n",
       "<table border=\"1\" class=\"dataframe\">\n",
       "  <thead>\n",
       "    <tr style=\"text-align: right;\">\n",
       "      <th></th>\n",
       "      <th>Uniqe Id</th>\n",
       "      <th>Product Name</th>\n",
       "      <th>Brand Name</th>\n",
       "      <th>Asin</th>\n",
       "      <th>Category</th>\n",
       "      <th>Upc Ean Code</th>\n",
       "      <th>List Price</th>\n",
       "      <th>Selling Price</th>\n",
       "      <th>Quantity</th>\n",
       "      <th>Model Number</th>\n",
       "      <th>...</th>\n",
       "      <th>Product Url</th>\n",
       "      <th>Stock</th>\n",
       "      <th>Product Details</th>\n",
       "      <th>Dimensions</th>\n",
       "      <th>Color</th>\n",
       "      <th>Ingredients</th>\n",
       "      <th>Direction To Use</th>\n",
       "      <th>Is Amazon Seller</th>\n",
       "      <th>Size Quantity Variant</th>\n",
       "      <th>Product Description</th>\n",
       "    </tr>\n",
       "  </thead>\n",
       "  <tbody>\n",
       "    <tr>\n",
       "      <th>0</th>\n",
       "      <td>4c69b61db1fc16e7013b43fc926e502d</td>\n",
       "      <td>DB Longboards CoreFlex Crossbow 41\" Bamboo Fib...</td>\n",
       "      <td>NaN</td>\n",
       "      <td>NaN</td>\n",
       "      <td>Sports &amp; Outdoors | Outdoor Recreation | Skate...</td>\n",
       "      <td>NaN</td>\n",
       "      <td>NaN</td>\n",
       "      <td>$237.68</td>\n",
       "      <td>NaN</td>\n",
       "      <td>NaN</td>\n",
       "      <td>...</td>\n",
       "      <td>https://www.amazon.com/DB-Longboards-CoreFlex-...</td>\n",
       "      <td>NaN</td>\n",
       "      <td>NaN</td>\n",
       "      <td>NaN</td>\n",
       "      <td>NaN</td>\n",
       "      <td>NaN</td>\n",
       "      <td>NaN</td>\n",
       "      <td>Y</td>\n",
       "      <td>NaN</td>\n",
       "      <td>NaN</td>\n",
       "    </tr>\n",
       "    <tr>\n",
       "      <th>1</th>\n",
       "      <td>66d49bbed043f5be260fa9f7fbff5957</td>\n",
       "      <td>Electronic Snap Circuits Mini Kits Classpack, ...</td>\n",
       "      <td>NaN</td>\n",
       "      <td>NaN</td>\n",
       "      <td>Toys &amp; Games | Learning &amp; Education | Science ...</td>\n",
       "      <td>NaN</td>\n",
       "      <td>NaN</td>\n",
       "      <td>$99.95</td>\n",
       "      <td>NaN</td>\n",
       "      <td>55324</td>\n",
       "      <td>...</td>\n",
       "      <td>https://www.amazon.com/Electronic-Circuits-Cla...</td>\n",
       "      <td>NaN</td>\n",
       "      <td>NaN</td>\n",
       "      <td>NaN</td>\n",
       "      <td>NaN</td>\n",
       "      <td>NaN</td>\n",
       "      <td>NaN</td>\n",
       "      <td>Y</td>\n",
       "      <td>NaN</td>\n",
       "      <td>NaN</td>\n",
       "    </tr>\n",
       "    <tr>\n",
       "      <th>2</th>\n",
       "      <td>2c55cae269aebf53838484b0d7dd931a</td>\n",
       "      <td>3Doodler Create Flexy 3D Printing Filament Ref...</td>\n",
       "      <td>NaN</td>\n",
       "      <td>NaN</td>\n",
       "      <td>Toys &amp; Games | Arts &amp; Crafts | Craft Kits</td>\n",
       "      <td>NaN</td>\n",
       "      <td>NaN</td>\n",
       "      <td>$34.99</td>\n",
       "      <td>NaN</td>\n",
       "      <td>NaN</td>\n",
       "      <td>...</td>\n",
       "      <td>https://www.amazon.com/3Doodler-Plastic-Innova...</td>\n",
       "      <td>NaN</td>\n",
       "      <td>NaN</td>\n",
       "      <td>NaN</td>\n",
       "      <td>NaN</td>\n",
       "      <td>NaN</td>\n",
       "      <td>NaN</td>\n",
       "      <td>Y</td>\n",
       "      <td>NaN</td>\n",
       "      <td>NaN</td>\n",
       "    </tr>\n",
       "    <tr>\n",
       "      <th>3</th>\n",
       "      <td>18018b6bc416dab347b1b7db79994afa</td>\n",
       "      <td>Guillow Airplane Design Studio with Travel Cas...</td>\n",
       "      <td>NaN</td>\n",
       "      <td>NaN</td>\n",
       "      <td>Toys &amp; Games | Hobbies | Models &amp; Model Kits |...</td>\n",
       "      <td>NaN</td>\n",
       "      <td>NaN</td>\n",
       "      <td>$28.91</td>\n",
       "      <td>NaN</td>\n",
       "      <td>142</td>\n",
       "      <td>...</td>\n",
       "      <td>https://www.amazon.com/Guillow-Airplane-Design...</td>\n",
       "      <td>NaN</td>\n",
       "      <td>NaN</td>\n",
       "      <td>NaN</td>\n",
       "      <td>NaN</td>\n",
       "      <td>NaN</td>\n",
       "      <td>NaN</td>\n",
       "      <td>Y</td>\n",
       "      <td>NaN</td>\n",
       "      <td>NaN</td>\n",
       "    </tr>\n",
       "    <tr>\n",
       "      <th>4</th>\n",
       "      <td>e04b990e95bf73bbe6a3fa09785d7cd0</td>\n",
       "      <td>Woodstock- Collage 500 pc Puzzle</td>\n",
       "      <td>NaN</td>\n",
       "      <td>NaN</td>\n",
       "      <td>Toys &amp; Games | Puzzles | Jigsaw Puzzles</td>\n",
       "      <td>NaN</td>\n",
       "      <td>NaN</td>\n",
       "      <td>$17.49</td>\n",
       "      <td>NaN</td>\n",
       "      <td>62151</td>\n",
       "      <td>...</td>\n",
       "      <td>https://www.amazon.com/Woodstock-Collage-500-p...</td>\n",
       "      <td>NaN</td>\n",
       "      <td>NaN</td>\n",
       "      <td>NaN</td>\n",
       "      <td>NaN</td>\n",
       "      <td>NaN</td>\n",
       "      <td>NaN</td>\n",
       "      <td>Y</td>\n",
       "      <td>NaN</td>\n",
       "      <td>NaN</td>\n",
       "    </tr>\n",
       "  </tbody>\n",
       "</table>\n",
       "<p>5 rows × 28 columns</p>\n",
       "</div>"
      ],
      "text/plain": [
       "                           Uniqe Id  \\\n",
       "0  4c69b61db1fc16e7013b43fc926e502d   \n",
       "1  66d49bbed043f5be260fa9f7fbff5957   \n",
       "2  2c55cae269aebf53838484b0d7dd931a   \n",
       "3  18018b6bc416dab347b1b7db79994afa   \n",
       "4  e04b990e95bf73bbe6a3fa09785d7cd0   \n",
       "\n",
       "                                        Product Name  Brand Name  Asin  \\\n",
       "0  DB Longboards CoreFlex Crossbow 41\" Bamboo Fib...         NaN   NaN   \n",
       "1  Electronic Snap Circuits Mini Kits Classpack, ...         NaN   NaN   \n",
       "2  3Doodler Create Flexy 3D Printing Filament Ref...         NaN   NaN   \n",
       "3  Guillow Airplane Design Studio with Travel Cas...         NaN   NaN   \n",
       "4                   Woodstock- Collage 500 pc Puzzle         NaN   NaN   \n",
       "\n",
       "                                            Category Upc Ean Code  List Price  \\\n",
       "0  Sports & Outdoors | Outdoor Recreation | Skate...          NaN         NaN   \n",
       "1  Toys & Games | Learning & Education | Science ...          NaN         NaN   \n",
       "2          Toys & Games | Arts & Crafts | Craft Kits          NaN         NaN   \n",
       "3  Toys & Games | Hobbies | Models & Model Kits |...          NaN         NaN   \n",
       "4            Toys & Games | Puzzles | Jigsaw Puzzles          NaN         NaN   \n",
       "\n",
       "  Selling Price  Quantity Model Number  ...  \\\n",
       "0       $237.68       NaN          NaN  ...   \n",
       "1        $99.95       NaN        55324  ...   \n",
       "2        $34.99       NaN          NaN  ...   \n",
       "3        $28.91       NaN          142  ...   \n",
       "4        $17.49       NaN        62151  ...   \n",
       "\n",
       "                                         Product Url Stock Product Details  \\\n",
       "0  https://www.amazon.com/DB-Longboards-CoreFlex-...   NaN             NaN   \n",
       "1  https://www.amazon.com/Electronic-Circuits-Cla...   NaN             NaN   \n",
       "2  https://www.amazon.com/3Doodler-Plastic-Innova...   NaN             NaN   \n",
       "3  https://www.amazon.com/Guillow-Airplane-Design...   NaN             NaN   \n",
       "4  https://www.amazon.com/Woodstock-Collage-500-p...   NaN             NaN   \n",
       "\n",
       "  Dimensions Color Ingredients Direction To Use  Is Amazon Seller  \\\n",
       "0        NaN   NaN         NaN              NaN                 Y   \n",
       "1        NaN   NaN         NaN              NaN                 Y   \n",
       "2        NaN   NaN         NaN              NaN                 Y   \n",
       "3        NaN   NaN         NaN              NaN                 Y   \n",
       "4        NaN   NaN         NaN              NaN                 Y   \n",
       "\n",
       "  Size Quantity Variant  Product Description  \n",
       "0                   NaN                  NaN  \n",
       "1                   NaN                  NaN  \n",
       "2                   NaN                  NaN  \n",
       "3                   NaN                  NaN  \n",
       "4                   NaN                  NaN  \n",
       "\n",
       "[5 rows x 28 columns]"
      ]
     },
     "execution_count": 44,
     "metadata": {},
     "output_type": "execute_result"
    }
   ],
   "source": [
    "product_details.head()"
   ]
  },
  {
   "cell_type": "code",
   "execution_count": 45,
   "id": "28b23917",
   "metadata": {},
   "outputs": [
    {
     "data": {
      "text/plain": [
       "Uniqe Id                     0\n",
       "Product Name                 0\n",
       "Brand Name               10002\n",
       "Asin                     10002\n",
       "Category                   830\n",
       "Upc Ean Code              9968\n",
       "List Price               10002\n",
       "Selling Price              107\n",
       "Quantity                 10002\n",
       "Model Number              1770\n",
       "About Product              273\n",
       "Product Specification     1632\n",
       "Technical Details          790\n",
       "Shipping Weight           1138\n",
       "Product Dimensions        9523\n",
       "Image                        0\n",
       "Variants                  7524\n",
       "Sku                      10002\n",
       "Product Url                  0\n",
       "Stock                    10002\n",
       "Product Details          10002\n",
       "Dimensions               10002\n",
       "Color                    10002\n",
       "Ingredients              10002\n",
       "Direction To Use         10002\n",
       "Is Amazon Seller             0\n",
       "Size Quantity Variant    10002\n",
       "Product Description      10002\n",
       "dtype: int64"
      ]
     },
     "execution_count": 45,
     "metadata": {},
     "output_type": "execute_result"
    }
   ],
   "source": [
    "product_details.isnull().sum()"
   ]
  },
  {
   "cell_type": "code",
   "execution_count": 46,
   "id": "ed9e9824",
   "metadata": {},
   "outputs": [],
   "source": [
    "product_details.drop(columns=['Brand Name','Asin','List Price','Quantity','Sku','Stock','Product Details','Dimensions','Color','Ingredients','Direction To Use','Size Quantity Variant','Product Description'],inplace=True)"
   ]
  },
  {
   "cell_type": "code",
   "execution_count": 47,
   "id": "9b44d502",
   "metadata": {},
   "outputs": [
    {
     "data": {
      "text/plain": [
       "Uniqe Id                    0\n",
       "Product Name                0\n",
       "Category                  830\n",
       "Upc Ean Code             9968\n",
       "Selling Price             107\n",
       "Model Number             1770\n",
       "About Product             273\n",
       "Product Specification    1632\n",
       "Technical Details         790\n",
       "Shipping Weight          1138\n",
       "Product Dimensions       9523\n",
       "Image                       0\n",
       "Variants                 7524\n",
       "Product Url                 0\n",
       "Is Amazon Seller            0\n",
       "dtype: int64"
      ]
     },
     "execution_count": 47,
     "metadata": {},
     "output_type": "execute_result"
    }
   ],
   "source": [
    "product_details.isnull().sum()"
   ]
  },
  {
   "cell_type": "code",
   "execution_count": 48,
   "id": "a00aa4cf",
   "metadata": {},
   "outputs": [
    {
     "data": {
      "text/plain": [
       "Uniqe Id                 object\n",
       "Product Name             object\n",
       "Category                 object\n",
       "Upc Ean Code             object\n",
       "Selling Price            object\n",
       "Model Number             object\n",
       "About Product            object\n",
       "Product Specification    object\n",
       "Technical Details        object\n",
       "Shipping Weight          object\n",
       "Product Dimensions       object\n",
       "Image                    object\n",
       "Variants                 object\n",
       "Product Url              object\n",
       "Is Amazon Seller         object\n",
       "dtype: object"
      ]
     },
     "execution_count": 48,
     "metadata": {},
     "output_type": "execute_result"
    }
   ],
   "source": [
    "product_details.dtypes"
   ]
  },
  {
   "cell_type": "code",
   "execution_count": 50,
   "id": "b6b9ed8d",
   "metadata": {},
   "outputs": [],
   "source": [
    "product_details.drop(columns=['Upc Ean Code','Shipping Weight','Product Dimensions','Image'],inplace=True)"
   ]
  },
  {
   "cell_type": "code",
   "execution_count": 51,
   "id": "b43f06af",
   "metadata": {},
   "outputs": [],
   "source": [
    "Columns_to_fill=['Category','Selling Price','Model Number','About Product','Product Specification','Technical Details','Variants']"
   ]
  },
  {
   "cell_type": "code",
   "execution_count": 52,
   "id": "69330883",
   "metadata": {},
   "outputs": [],
   "source": [
    "product_details[Columns_to_fill] = product_details[Columns_to_fill].fillna('')"
   ]
  },
  {
   "cell_type": "code",
   "execution_count": 54,
   "id": "c10d3142",
   "metadata": {},
   "outputs": [
    {
     "data": {
      "text/plain": [
       "Uniqe Id                 0\n",
       "Product Name             0\n",
       "Category                 0\n",
       "Selling Price            0\n",
       "Model Number             0\n",
       "About Product            0\n",
       "Product Specification    0\n",
       "Technical Details        0\n",
       "Variants                 0\n",
       "Product Url              0\n",
       "Is Amazon Seller         0\n",
       "dtype: int64"
      ]
     },
     "execution_count": 54,
     "metadata": {},
     "output_type": "execute_result"
    }
   ],
   "source": [
    "product_details.isnull().sum()"
   ]
  },
  {
   "cell_type": "code",
   "execution_count": 60,
   "id": "2faaff4f",
   "metadata": {},
   "outputs": [
    {
     "data": {
      "text/plain": [
       "0        237.68\n",
       "1         99.95\n",
       "2         34.99\n",
       "3         28.91\n",
       "4         17.49\n",
       "          ...  \n",
       "9997       9.31\n",
       "9998       6.99\n",
       "9999      37.95\n",
       "10000      3.58\n",
       "10001    152.27\n",
       "Name: Selling Price, Length: 10002, dtype: object"
      ]
     },
     "execution_count": 60,
     "metadata": {},
     "output_type": "execute_result"
    }
   ],
   "source": [
    "product_details[\"Selling Price\"]"
   ]
  },
  {
   "cell_type": "code",
   "execution_count": 59,
   "id": "cd9e38a5",
   "metadata": {},
   "outputs": [],
   "source": [
    "product_details['Selling Price'] = product_details['Selling Price'].replace('[\\$,]', '', regex=True)"
   ]
  },
  {
   "cell_type": "code",
   "execution_count": 66,
   "id": "4c132fcc",
   "metadata": {},
   "outputs": [],
   "source": [
    "product_details['Selling Price'] = product_details['Selling Price'].fillna(0)"
   ]
  },
  {
   "cell_type": "code",
   "execution_count": 68,
   "id": "866e00d8",
   "metadata": {},
   "outputs": [],
   "source": [
    "def price_to_avg(price_str):\n",
    "    price_str = price_str.replace('$', '').replace(',', '').strip()\n",
    "    if '-' in price_str:\n",
    "        parts = price_str.split('-')\n",
    "        try:\n",
    "            low = float(parts[0].strip())\n",
    "            high = float(parts[1].strip())\n",
    "            return (low + high) / 2\n",
    "        except:\n",
    "            return 0\n",
    "    else:\n",
    "        try:\n",
    "            return float(price_str)\n",
    "        except:\n",
    "            return 0"
   ]
  },
  {
   "cell_type": "code",
   "execution_count": 69,
   "id": "1103d3da",
   "metadata": {},
   "outputs": [],
   "source": [
    "product_details['Selling Price'] = product_details['Selling Price'].apply(price_to_avg)"
   ]
  },
  {
   "cell_type": "code",
   "execution_count": 70,
   "id": "351a89c1",
   "metadata": {},
   "outputs": [],
   "source": [
    "product_details.to_csv(r'Structured data/product_details_cleaned.csv', index=False)"
   ]
  },
  {
   "cell_type": "code",
   "execution_count": 71,
   "id": "7681375b",
   "metadata": {},
   "outputs": [
    {
     "data": {
      "text/plain": [
       "Uniqe Id                  object\n",
       "Product Name              object\n",
       "Category                  object\n",
       "Selling Price            float64\n",
       "Model Number              object\n",
       "About Product             object\n",
       "Product Specification     object\n",
       "Technical Details         object\n",
       "Variants                  object\n",
       "Product Url               object\n",
       "Is Amazon Seller          object\n",
       "dtype: object"
      ]
     },
     "execution_count": 71,
     "metadata": {},
     "output_type": "execute_result"
    }
   ],
   "source": [
    "product_details.dtypes"
   ]
  },
  {
   "cell_type": "markdown",
   "id": "c2378f35",
   "metadata": {},
   "source": [
    "Cleaning Sales Data"
   ]
  },
  {
   "cell_type": "code",
   "execution_count": 75,
   "id": "31fa0853",
   "metadata": {},
   "outputs": [],
   "source": [
    "sales_data= pd.read_csv(r'Structured data/E-commerece sales data 2024.csv')"
   ]
  },
  {
   "cell_type": "code",
   "execution_count": 76,
   "id": "19f621f1",
   "metadata": {},
   "outputs": [
    {
     "data": {
      "text/html": [
       "<div>\n",
       "<style scoped>\n",
       "    .dataframe tbody tr th:only-of-type {\n",
       "        vertical-align: middle;\n",
       "    }\n",
       "\n",
       "    .dataframe tbody tr th {\n",
       "        vertical-align: top;\n",
       "    }\n",
       "\n",
       "    .dataframe thead th {\n",
       "        text-align: right;\n",
       "    }\n",
       "</style>\n",
       "<table border=\"1\" class=\"dataframe\">\n",
       "  <thead>\n",
       "    <tr style=\"text-align: right;\">\n",
       "      <th></th>\n",
       "      <th>user id</th>\n",
       "      <th>product id</th>\n",
       "      <th>Interaction type</th>\n",
       "      <th>Time stamp</th>\n",
       "      <th>Unnamed: 4</th>\n",
       "    </tr>\n",
       "  </thead>\n",
       "  <tbody>\n",
       "    <tr>\n",
       "      <th>0</th>\n",
       "      <td>1.0</td>\n",
       "      <td>4c69b61db1fc16e7013b43fc926e502d</td>\n",
       "      <td>purchase</td>\n",
       "      <td>10/10/2023 8:00</td>\n",
       "      <td>NaN</td>\n",
       "    </tr>\n",
       "    <tr>\n",
       "      <th>1</th>\n",
       "      <td>2.0</td>\n",
       "      <td>66d49bbed043f5be260fa9f7fbff5957</td>\n",
       "      <td>view</td>\n",
       "      <td>11/10/2023 8:00</td>\n",
       "      <td>NaN</td>\n",
       "    </tr>\n",
       "    <tr>\n",
       "      <th>2</th>\n",
       "      <td>3.0</td>\n",
       "      <td>2c55cae269aebf53838484b0d7dd931a</td>\n",
       "      <td>like</td>\n",
       "      <td>12/10/2023 8:00</td>\n",
       "      <td>NaN</td>\n",
       "    </tr>\n",
       "    <tr>\n",
       "      <th>3</th>\n",
       "      <td>4.0</td>\n",
       "      <td>18018b6bc416dab347b1b7db79994afa</td>\n",
       "      <td>view</td>\n",
       "      <td>13/10/2023 8:00</td>\n",
       "      <td>NaN</td>\n",
       "    </tr>\n",
       "    <tr>\n",
       "      <th>4</th>\n",
       "      <td>5.0</td>\n",
       "      <td>e04b990e95bf73bbe6a3fa09785d7cd0</td>\n",
       "      <td>like</td>\n",
       "      <td>14/10/2023 8:00</td>\n",
       "      <td>NaN</td>\n",
       "    </tr>\n",
       "  </tbody>\n",
       "</table>\n",
       "</div>"
      ],
      "text/plain": [
       "   user id                        product id Interaction type  \\\n",
       "0      1.0  4c69b61db1fc16e7013b43fc926e502d         purchase   \n",
       "1      2.0  66d49bbed043f5be260fa9f7fbff5957             view   \n",
       "2      3.0  2c55cae269aebf53838484b0d7dd931a             like   \n",
       "3      4.0  18018b6bc416dab347b1b7db79994afa             view   \n",
       "4      5.0  e04b990e95bf73bbe6a3fa09785d7cd0             like   \n",
       "\n",
       "        Time stamp  Unnamed: 4  \n",
       "0  10/10/2023 8:00         NaN  \n",
       "1  11/10/2023 8:00         NaN  \n",
       "2  12/10/2023 8:00         NaN  \n",
       "3  13/10/2023 8:00         NaN  \n",
       "4  14/10/2023 8:00         NaN  "
      ]
     },
     "execution_count": 76,
     "metadata": {},
     "output_type": "execute_result"
    }
   ],
   "source": [
    "sales_data.head()"
   ]
  },
  {
   "cell_type": "code",
   "execution_count": 82,
   "id": "9aca48d9",
   "metadata": {},
   "outputs": [
    {
     "data": {
      "text/plain": [
       "user id             295\n",
       "product id          295\n",
       "Interaction type    423\n",
       "Time stamp          295\n",
       "dtype: int64"
      ]
     },
     "execution_count": 82,
     "metadata": {},
     "output_type": "execute_result"
    }
   ],
   "source": [
    "sales_data.isnull().sum()"
   ]
  },
  {
   "cell_type": "code",
   "execution_count": 83,
   "id": "438f51d7",
   "metadata": {},
   "outputs": [
    {
     "data": {
      "text/plain": [
       "(3294, 4)"
      ]
     },
     "execution_count": 83,
     "metadata": {},
     "output_type": "execute_result"
    }
   ],
   "source": [
    "sales_data.shape"
   ]
  },
  {
   "cell_type": "code",
   "execution_count": 81,
   "id": "d6f4143f",
   "metadata": {},
   "outputs": [],
   "source": [
    "sales_data.drop(columns='Unnamed: 4',inplace=True)"
   ]
  },
  {
   "cell_type": "code",
   "execution_count": 90,
   "id": "820c6892",
   "metadata": {},
   "outputs": [],
   "source": [
    "sales_data.drop(columns='Time stamp',inplace=True)"
   ]
  },
  {
   "cell_type": "code",
   "execution_count": 91,
   "id": "36323d2a",
   "metadata": {},
   "outputs": [
    {
     "data": {
      "text/plain": [
       "user id             float64\n",
       "product id           object\n",
       "Interaction type     object\n",
       "dtype: object"
      ]
     },
     "execution_count": 91,
     "metadata": {},
     "output_type": "execute_result"
    }
   ],
   "source": [
    "sales_data.dtypes"
   ]
  },
  {
   "cell_type": "code",
   "execution_count": 92,
   "id": "49bfcee5",
   "metadata": {},
   "outputs": [
    {
     "data": {
      "text/plain": [
       "294"
      ]
     },
     "execution_count": 92,
     "metadata": {},
     "output_type": "execute_result"
    }
   ],
   "source": [
    "sales_data.duplicated().sum()"
   ]
  },
  {
   "cell_type": "code",
   "execution_count": 93,
   "id": "bd17c088",
   "metadata": {},
   "outputs": [],
   "source": [
    "sales_data.drop_duplicates(inplace=True)"
   ]
  },
  {
   "cell_type": "code",
   "execution_count": 94,
   "id": "6b9d0ffe",
   "metadata": {},
   "outputs": [
    {
     "data": {
      "text/plain": [
       "0"
      ]
     },
     "execution_count": 94,
     "metadata": {},
     "output_type": "execute_result"
    }
   ],
   "source": [
    "sales_data.duplicated().sum()"
   ]
  },
  {
   "cell_type": "code",
   "execution_count": 95,
   "id": "21dae9e8",
   "metadata": {},
   "outputs": [
    {
     "data": {
      "text/plain": [
       "user id               1\n",
       "product id            1\n",
       "Interaction type    129\n",
       "dtype: int64"
      ]
     },
     "execution_count": 95,
     "metadata": {},
     "output_type": "execute_result"
    }
   ],
   "source": [
    "sales_data.isnull().sum()"
   ]
  },
  {
   "cell_type": "code",
   "execution_count": 96,
   "id": "a4a0e40b",
   "metadata": {},
   "outputs": [],
   "source": [
    "sales_data = sales_data.dropna(subset=['user id', 'product id'])"
   ]
  },
  {
   "cell_type": "code",
   "execution_count": 98,
   "id": "9d7a9f4a",
   "metadata": {},
   "outputs": [],
   "source": [
    "sales_data = sales_data.dropna(subset=['Interaction type'])"
   ]
  },
  {
   "cell_type": "code",
   "execution_count": 99,
   "id": "bea555a4",
   "metadata": {},
   "outputs": [],
   "source": [
    "sales_data.to_csv(r'Structured data/sales_data_cleaned.csv', index=False)"
   ]
  },
  {
   "cell_type": "markdown",
   "id": "51253a46",
   "metadata": {},
   "source": [
    "Merge sales with products"
   ]
  },
  {
   "cell_type": "code",
   "execution_count": 122,
   "id": "b272d2ec",
   "metadata": {},
   "outputs": [],
   "source": [
    "df = pd.merge(sales_data, product_details, left_on='product id', right_on='Uniqe Id', how='inner')\n"
   ]
  },
  {
   "cell_type": "code",
   "execution_count": 123,
   "id": "42e7fa95",
   "metadata": {},
   "outputs": [
    {
     "data": {
      "text/html": [
       "<div>\n",
       "<style scoped>\n",
       "    .dataframe tbody tr th:only-of-type {\n",
       "        vertical-align: middle;\n",
       "    }\n",
       "\n",
       "    .dataframe tbody tr th {\n",
       "        vertical-align: top;\n",
       "    }\n",
       "\n",
       "    .dataframe thead th {\n",
       "        text-align: right;\n",
       "    }\n",
       "</style>\n",
       "<table border=\"1\" class=\"dataframe\">\n",
       "  <thead>\n",
       "    <tr style=\"text-align: right;\">\n",
       "      <th></th>\n",
       "      <th>user id</th>\n",
       "      <th>product id</th>\n",
       "      <th>Interaction type</th>\n",
       "      <th>Uniqe Id</th>\n",
       "      <th>Product Name</th>\n",
       "      <th>Category</th>\n",
       "      <th>Selling Price</th>\n",
       "      <th>Model Number</th>\n",
       "      <th>About Product</th>\n",
       "      <th>Product Specification</th>\n",
       "      <th>Technical Details</th>\n",
       "      <th>Variants</th>\n",
       "      <th>Product Url</th>\n",
       "      <th>Is Amazon Seller</th>\n",
       "    </tr>\n",
       "  </thead>\n",
       "  <tbody>\n",
       "    <tr>\n",
       "      <th>0</th>\n",
       "      <td>1.0</td>\n",
       "      <td>4c69b61db1fc16e7013b43fc926e502d</td>\n",
       "      <td>purchase</td>\n",
       "      <td>4c69b61db1fc16e7013b43fc926e502d</td>\n",
       "      <td>DB Longboards CoreFlex Crossbow 41\" Bamboo Fib...</td>\n",
       "      <td>Sports &amp; Outdoors | Outdoor Recreation | Skate...</td>\n",
       "      <td>237.68</td>\n",
       "      <td></td>\n",
       "      <td>Make sure this fits by entering your model num...</td>\n",
       "      <td>Shipping Weight: 10.7 pounds (View shipping ra...</td>\n",
       "      <td></td>\n",
       "      <td>https://www.amazon.com/DB-Longboards-CoreFlex-...</td>\n",
       "      <td>https://www.amazon.com/DB-Longboards-CoreFlex-...</td>\n",
       "      <td>Y</td>\n",
       "    </tr>\n",
       "    <tr>\n",
       "      <th>1</th>\n",
       "      <td>2.0</td>\n",
       "      <td>66d49bbed043f5be260fa9f7fbff5957</td>\n",
       "      <td>view</td>\n",
       "      <td>66d49bbed043f5be260fa9f7fbff5957</td>\n",
       "      <td>Electronic Snap Circuits Mini Kits Classpack, ...</td>\n",
       "      <td>Toys &amp; Games | Learning &amp; Education | Science ...</td>\n",
       "      <td>99.95</td>\n",
       "      <td>55324</td>\n",
       "      <td>Make sure this fits by entering your model num...</td>\n",
       "      <td>Product Dimensions:         14.7 x 11.1 x 10.2...</td>\n",
       "      <td>The snap circuits mini kits classpack provides...</td>\n",
       "      <td></td>\n",
       "      <td>https://www.amazon.com/Electronic-Circuits-Cla...</td>\n",
       "      <td>Y</td>\n",
       "    </tr>\n",
       "  </tbody>\n",
       "</table>\n",
       "</div>"
      ],
      "text/plain": [
       "   user id                        product id Interaction type  \\\n",
       "0      1.0  4c69b61db1fc16e7013b43fc926e502d         purchase   \n",
       "1      2.0  66d49bbed043f5be260fa9f7fbff5957             view   \n",
       "\n",
       "                           Uniqe Id  \\\n",
       "0  4c69b61db1fc16e7013b43fc926e502d   \n",
       "1  66d49bbed043f5be260fa9f7fbff5957   \n",
       "\n",
       "                                        Product Name  \\\n",
       "0  DB Longboards CoreFlex Crossbow 41\" Bamboo Fib...   \n",
       "1  Electronic Snap Circuits Mini Kits Classpack, ...   \n",
       "\n",
       "                                            Category  Selling Price  \\\n",
       "0  Sports & Outdoors | Outdoor Recreation | Skate...         237.68   \n",
       "1  Toys & Games | Learning & Education | Science ...          99.95   \n",
       "\n",
       "  Model Number                                      About Product  \\\n",
       "0               Make sure this fits by entering your model num...   \n",
       "1        55324  Make sure this fits by entering your model num...   \n",
       "\n",
       "                               Product Specification  \\\n",
       "0  Shipping Weight: 10.7 pounds (View shipping ra...   \n",
       "1  Product Dimensions:         14.7 x 11.1 x 10.2...   \n",
       "\n",
       "                                   Technical Details  \\\n",
       "0                                                      \n",
       "1  The snap circuits mini kits classpack provides...   \n",
       "\n",
       "                                            Variants  \\\n",
       "0  https://www.amazon.com/DB-Longboards-CoreFlex-...   \n",
       "1                                                      \n",
       "\n",
       "                                         Product Url Is Amazon Seller  \n",
       "0  https://www.amazon.com/DB-Longboards-CoreFlex-...                Y  \n",
       "1  https://www.amazon.com/Electronic-Circuits-Cla...                Y  "
      ]
     },
     "execution_count": 123,
     "metadata": {},
     "output_type": "execute_result"
    }
   ],
   "source": [
    "df.head(2)"
   ]
  },
  {
   "cell_type": "code",
   "execution_count": 124,
   "id": "b840e83e",
   "metadata": {},
   "outputs": [
    {
     "data": {
      "text/plain": [
       "0"
      ]
     },
     "execution_count": 124,
     "metadata": {},
     "output_type": "execute_result"
    }
   ],
   "source": [
    "df['Uniqe Id'].isnull().sum()"
   ]
  },
  {
   "cell_type": "code",
   "execution_count": 125,
   "id": "9eca6c91",
   "metadata": {},
   "outputs": [
    {
     "name": "stdout",
     "output_type": "stream",
     "text": [
      "<class 'pandas.core.frame.DataFrame'>\n",
      "Int64Index: 2871 entries, 0 to 2870\n",
      "Data columns (total 14 columns):\n",
      " #   Column                 Non-Null Count  Dtype  \n",
      "---  ------                 --------------  -----  \n",
      " 0   user id                2871 non-null   float64\n",
      " 1   product id             2871 non-null   object \n",
      " 2   Interaction type       2871 non-null   object \n",
      " 3   Uniqe Id               2871 non-null   object \n",
      " 4   Product Name           2871 non-null   object \n",
      " 5   Category               2871 non-null   object \n",
      " 6   Selling Price          2871 non-null   float64\n",
      " 7   Model Number           2871 non-null   object \n",
      " 8   About Product          2871 non-null   object \n",
      " 9   Product Specification  2871 non-null   object \n",
      " 10  Technical Details      2871 non-null   object \n",
      " 11  Variants               2871 non-null   object \n",
      " 12  Product Url            2871 non-null   object \n",
      " 13  Is Amazon Seller       2871 non-null   object \n",
      "dtypes: float64(2), object(12)\n",
      "memory usage: 336.4+ KB\n"
     ]
    }
   ],
   "source": [
    "df.info()"
   ]
  },
  {
   "cell_type": "code",
   "execution_count": 126,
   "id": "30802078",
   "metadata": {},
   "outputs": [],
   "source": [
    "df.drop(columns=['Uniqe Id','Model Number',\"Variants\"],inplace=True)"
   ]
  },
  {
   "cell_type": "code",
   "execution_count": 128,
   "id": "f655a7c9",
   "metadata": {},
   "outputs": [
    {
     "name": "stdout",
     "output_type": "stream",
     "text": [
      "                                                                               262\n",
      "Toys & Games | Games & Accessories | Board Games                               107\n",
      "Toys & Games | Puzzles | Jigsaw Puzzles                                         92\n",
      "Toys & Games | Toy Figures & Playsets | Action Figures                          82\n",
      "Toys & Games | Stuffed Animals & Plush Toys | Stuffed Animals & Teddy Bears     75\n",
      "Name: Category, dtype: int64\n"
     ]
    }
   ],
   "source": [
    "print(df['Category'].value_counts().head())"
   ]
  },
  {
   "cell_type": "code",
   "execution_count": 129,
   "id": "33b7f521",
   "metadata": {},
   "outputs": [
    {
     "name": "stdout",
     "output_type": "stream",
     "text": [
      "like        1145\n",
      "view         871\n",
      "purchase     855\n",
      "Name: Interaction type, dtype: int64\n"
     ]
    }
   ],
   "source": [
    "print(df['Interaction type'].value_counts())"
   ]
  },
  {
   "cell_type": "code",
   "execution_count": 131,
   "id": "250f3e8a",
   "metadata": {},
   "outputs": [
    {
     "name": "stdout",
     "output_type": "stream",
     "text": [
      "count    2871.000000\n",
      "mean       38.112860\n",
      "std       185.580765\n",
      "min         0.000000\n",
      "25%         9.485000\n",
      "50%        15.940000\n",
      "75%        28.880000\n",
      "max      5030.900000\n",
      "Name: Selling Price, dtype: float64\n"
     ]
    }
   ],
   "source": [
    "print(df['Selling Price'].describe())"
   ]
  },
  {
   "cell_type": "code",
   "execution_count": 132,
   "id": "3c6311f0",
   "metadata": {},
   "outputs": [
    {
     "data": {
      "text/plain": [
       "Category\n",
       "Sports & Outdoors | Outdoor Recreation | Skates, Skateboards & Scooters | Inline & Roller Skating | Roller Skates | Roller Derby Skates           5021.440\n",
       "Sports & Outdoors | Fan Shop | Sports Equipment | Basketball Equipment | Basketballs                                                              5016.210\n",
       "Sports & Outdoors | Sports & Fitness | Leisure Sports & Game Room | Trampolines & Accessories | Trampolines                                       1844.630\n",
       "Toys & Games | Sports & Outdoor Play | Play Sets & Playground Equipment | Play & Swing Sets                                                       1608.596\n",
       "Toys & Games | Hobbies | Remote & App Controlled Vehicles & Parts | Remote & App Controlled Vehicle Parts | Wheels & Tires | Tire & Wheel Sets     749.990\n",
       "                                                                                                                                                    ...   \n",
       "Toys & Games | Sports & Outdoor Play | Play Sets & Playground Equipment | Parts & Hardware                                                           0.000\n",
       "Home & Kitchen | Furniture | Kids' Furniture | Chests & Trunks                                                                                       0.000\n",
       "Toys & Games | Arts & Crafts | Craft Kits | Sand Art                                                                                                 0.000\n",
       "Toys & Games | Arts & Crafts | Drawing & Painting Supplies | Paints | Finger Paint                                                                   0.000\n",
       "Video Games | PlayStation 4 | Games                                                                                                                  0.000\n",
       "Name: Selling Price, Length: 536, dtype: float64"
      ]
     },
     "execution_count": 132,
     "metadata": {},
     "output_type": "execute_result"
    }
   ],
   "source": [
    "df.groupby('Category')['Selling Price'].mean().sort_values(ascending=False)\n"
   ]
  },
  {
   "cell_type": "code",
   "execution_count": null,
   "id": "f9ede10d",
   "metadata": {},
   "outputs": [
    {
     "data": {
      "text/plain": [
       "0       False\n",
       "1       False\n",
       "2       False\n",
       "3       False\n",
       "4       False\n",
       "        ...  \n",
       "2866    False\n",
       "2867    False\n",
       "2868    False\n",
       "2869    False\n",
       "2870    False\n",
       "Name: Selling Price, Length: 2871, dtype: bool"
      ]
     },
     "execution_count": 137,
     "metadata": {},
     "output_type": "execute_result"
    }
   ],
   "source": []
  },
  {
   "cell_type": "code",
   "execution_count": 163,
   "id": "b65acdeb",
   "metadata": {},
   "outputs": [],
   "source": [
    "df['Category'] = df['Category'].replace('', 'Unknown')"
   ]
  },
  {
   "cell_type": "code",
   "execution_count": 164,
   "id": "722b9567",
   "metadata": {},
   "outputs": [],
   "source": [
    "df.loc[\n",
    "    (df['Category'] == 'Unknown') & \n",
    "    (df['Product Name'].str.contains('plush', case=False, na=False)), \n",
    "    'Category'\n",
    "] = 'Toys & Games | Baby & Toddler Toys | Rattles & Plush Rings'"
   ]
  },
  {
   "cell_type": "code",
   "execution_count": 165,
   "id": "ded98875",
   "metadata": {},
   "outputs": [],
   "source": [
    "df.loc[\n",
    "    (df['Category'] == 'Unknown') & \n",
    "    (df['Product Name'].str.contains(' toy', case=False, na=False)), \n",
    "    'Category'\n",
    "] = 'Toys & Games'"
   ]
  },
  {
   "cell_type": "code",
   "execution_count": 166,
   "id": "13fafd89",
   "metadata": {},
   "outputs": [],
   "source": [
    "df.loc[\n",
    "    (df['Category'] == 'Unknown') & \n",
    "    (df['Product Name'].str.contains(' game', case=False, na=False)), \n",
    "    'Category'\n",
    "] = 'Toys & Games'"
   ]
  },
  {
   "cell_type": "code",
   "execution_count": 167,
   "id": "9487c995",
   "metadata": {},
   "outputs": [],
   "source": [
    "df.loc[\n",
    "    (df['Category'] == 'Unknown') & \n",
    "    (df['Product Name'].str.contains(' figure', case=False, na=False)), \n",
    "    'Category'\n",
    "] = 'Toys & Games | Collectible Toys'"
   ]
  },
  {
   "cell_type": "code",
   "execution_count": 168,
   "id": "4d7c2394",
   "metadata": {},
   "outputs": [],
   "source": [
    "df.loc[\n",
    "    (df['Category'] == 'Unknown') & \n",
    "    (df['Product Name'].str.contains(' cards', case=False, na=False)), \n",
    "    'Category'\n",
    "] = 'Toys & Games | Games & Accessories | Card Games'"
   ]
  },
  {
   "cell_type": "code",
   "execution_count": 169,
   "id": "32c53152",
   "metadata": {},
   "outputs": [],
   "source": [
    "df.loc[\n",
    "    (df['Category'] == 'Toys & Games | Games & Accessories | Card Games') & \n",
    "    (df['Product Name'].str.contains(' Trading Cards', case=False, na=False)), \n",
    "    'Category'\n",
    "] = 'Toys & Games | Games & Accessories | Card Games | Collectible Card Games'"
   ]
  },
  {
   "cell_type": "code",
   "execution_count": 170,
   "id": "9a276f08",
   "metadata": {},
   "outputs": [],
   "source": [
    "df.loc[\n",
    "    (df['Category'] == 'Toys & Games | Games & Accessories | Card Games') & \n",
    "    (df['Product Name'].str.contains(' Place Cards', case=False, na=False)), \n",
    "    'Category'\n",
    "] = 'Toys & Games | Party Supplies'"
   ]
  },
  {
   "cell_type": "code",
   "execution_count": 175,
   "id": "0e1912fd",
   "metadata": {},
   "outputs": [],
   "source": [
    "df.loc[\n",
    "    (df['Category'] == 'Toys & Games | Games & Accessories | Card Games') &\n",
    "    (\n",
    "        df['Product Name'].str.contains(' Notecard', case=False, na=False) |\n",
    "        df['Product Name'].str.contains(' Birthday Card', case=False, na=False) |\n",
    "        df['Product Name'].str.contains(' Flash Cards', case=False, na=False) |\n",
    "        df['Product Name'].str.contains('Party', case=False, na=False) |\n",
    "        df['Product Name'].str.contains(r'\\(12/Card\\)', case=False, na=False)\n",
    "    ),\n",
    "    'Category'\n",
    "] = 'Toys & Games | Party Supplies'\n"
   ]
  },
  {
   "cell_type": "code",
   "execution_count": 176,
   "id": "270f9099",
   "metadata": {},
   "outputs": [
    {
     "data": {
      "text/plain": [
       "169"
      ]
     },
     "execution_count": 176,
     "metadata": {},
     "output_type": "execute_result"
    }
   ],
   "source": [
    "(df['Category'].str.strip() == 'Unknown').sum()"
   ]
  },
  {
   "cell_type": "markdown",
   "id": "56e901f1",
   "metadata": {},
   "source": [
    "EDA"
   ]
  },
  {
   "cell_type": "code",
   "execution_count": null,
   "id": "007c596b",
   "metadata": {},
   "outputs": [
    {
     "data": {
      "text/plain": [
       "Category\n",
       "Toys & Games | Sports & Outdoor Play | Play Sets & Playground Equipment | Play & Swing Sets                                                8042.980\n",
       "Sports & Outdoors | Sports & Fitness | Leisure Sports & Game Room | Trampolines & Accessories | Trampolines                                5533.890\n",
       "Sports & Outdoors | Outdoor Recreation | Skates, Skateboards & Scooters | Inline & Roller Skating | Roller Skates | Roller Derby Skates    5021.440\n",
       "Sports & Outdoors | Fan Shop | Sports Equipment | Basketball Equipment | Basketballs                                                       5016.210\n",
       "Unknown                                                                                                                                    4254.965\n",
       "                                                                                                                                             ...   \n",
       "Toys & Games | Sports & Outdoor Play | Play Sets & Playground Equipment | Parts & Hardware                                                    0.000\n",
       "Home & Kitchen | Furniture | Kids' Furniture | Chests & Trunks                                                                                0.000\n",
       "Toys & Games | Arts & Crafts | Craft Kits | Sand Art                                                                                          0.000\n",
       "Toys & Games | Arts & Crafts | Drawing & Painting Supplies | Paints | Finger Paint                                                            0.000\n",
       "Video Games | PlayStation 4 | Games                                                                                                           0.000\n",
       "Name: Selling Price, Length: 537, dtype: float64"
      ]
     },
     "execution_count": 178,
     "metadata": {},
     "output_type": "execute_result"
    }
   ],
   "source": [
    "#Total sales per category:\n",
    "df.groupby('Category')['Selling Price'].sum().sort_values(ascending=False)\n"
   ]
  },
  {
   "cell_type": "code",
   "execution_count": 180,
   "id": "824ab47f",
   "metadata": {},
   "outputs": [
    {
     "data": {
      "text/plain": [
       "Product Name\n",
       "Skywalker Trampolines Mini Trampoline with Enclosure Net                                                                                                             5030.90\n",
       "Chicago Women's Classic Roller Skates - Premium White Quad Rink Skates                                                                                               5021.44\n",
       "Spalding NBA Neverflat Indoor/Outdoor Basketball                                                                                                                     5016.21\n",
       "Gorilla Playsets 01-0006-AP Pioneer Peak Wood Swing Set with Wood Roof, Tire Swing, Clatter Bridge and Tower, Ramp, Slide, Two Swings, Amber                         2599.00\n",
       "Gorilla Playsets 01-0004-TS-2 Frontier Wooden Swing Set with Sunbrella Canvas Canopy, Timber Shield Posts, Slide and Tire Swing                                      1899.00\n",
       "Modular Robotics Cubelets Robot Blocks - Code & Construct Educator Pack - STEM Education & Coding Robot, Free Lesson Plans, Ages 4+                                  1734.00\n",
       "Gorilla Playsets 01-3036-G Malibu Playhouse Wooden Playhouse for Kids, Brown & Green                                                                                 1265.00\n",
       "Backyard Discovery Woodland All Cedar Wood Playset Swing Set                                                                                                         1179.99\n",
       "KidKraft McKinley Cedar Wood Swing Set / Playset F24950                                                                                                              1099.99\n",
       "Swagtron EB-8 Outlaw Fat Tire Electric Bike – Foldable Off-Road Fat eBike 20-inch Wheels with Power Assist, Freehub and Shimano 7-Speed Gear Shifts, Black, Large     799.99\n",
       "Name: Selling Price, dtype: float64"
      ]
     },
     "execution_count": 180,
     "metadata": {},
     "output_type": "execute_result"
    }
   ],
   "source": [
    "#Top-selling products:\n",
    "df.groupby('Product Name')['Selling Price'].sum().nlargest(10)\n"
   ]
  },
  {
   "cell_type": "code",
   "execution_count": 181,
   "id": "c516a46c",
   "metadata": {},
   "outputs": [],
   "source": [
    "df.to_csv(r'Structured data\\cleaned_sales_products.csv', index=False)\n"
   ]
  },
  {
   "cell_type": "code",
   "execution_count": null,
   "id": "ef20d766",
   "metadata": {},
   "outputs": [],
   "source": []
  }
 ],
 "metadata": {
  "kernelspec": {
   "display_name": "base",
   "language": "python",
   "name": "python3"
  },
  "language_info": {
   "codemirror_mode": {
    "name": "ipython",
    "version": 3
   },
   "file_extension": ".py",
   "mimetype": "text/x-python",
   "name": "python",
   "nbconvert_exporter": "python",
   "pygments_lexer": "ipython3",
   "version": "3.9.12"
  }
 },
 "nbformat": 4,
 "nbformat_minor": 5
}
